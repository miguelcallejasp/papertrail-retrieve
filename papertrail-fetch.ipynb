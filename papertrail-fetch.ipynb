{
 "cells": [
  {
   "cell_type": "code",
   "execution_count": 1,
   "metadata": {},
   "outputs": [],
   "source": [
    "import requests\n",
    "import json\n",
    "import os\n",
    "import time\n",
    "import sys\n",
    "import gzip\n",
    "import shutil"
   ]
  },
  {
   "cell_type": "code",
   "execution_count": 78,
   "metadata": {},
   "outputs": [
    {
     "name": "stdout",
     "output_type": "stream",
     "text": [
      "Folder ./logs doesn't exist. Creating...\n"
     ]
    }
   ],
   "source": [
    "# Variables\n",
    "papertrail_api_token=\"abcdefghi\"\n",
    "\n",
    "#Dates to retrieve logs in format YYYY-MM-DD\n",
    "date=\"2019-11-10\"\n",
    "\n",
    "#Range of hours in 24h format\n",
    "hour_start=\"14\"\n",
    "hour_end=\"15\"\n",
    "\n",
    "#Download 1 date logs\n",
    "auth={'X-Papertrail-Token': papertrail_api_token}\n",
    "#Where the file is going to be saved (by default, right here)\n",
    "local_path=os.getcwd()\n",
    "log_path=local_path+\"/logs\"\n",
    "\n",
    "try:\n",
    "    os.listdir(log_path)\n",
    "except Exception as error:\n",
    "    print(\"Folder ./logs doesn't exist. Creating...\")\n",
    "    os.mkdir(log_path)"
   ]
  },
  {
   "cell_type": "code",
   "execution_count": 79,
   "metadata": {},
   "outputs": [],
   "source": [
    "def papertrail_get(paper_name):\n",
    "    \n",
    "    #Build variables\n",
    "    url=\"https://papertrailapp.com/api/v1/archives/\"+paper_name+\"/download\"\n",
    "    file_name=log_path+'/'+paper_name+'.tsv.gz'\n",
    "    with open(file_name, 'wb') as f:\n",
    "        print(\"Downloading %s\" % file_name)\n",
    "        #Download of the file\n",
    "        r = requests.get(url, headers=auth, stream=True)\n",
    "        total_length = r.headers.get('content-length')\n",
    "\n",
    "        if total_length is None: # no content length header\n",
    "            f.write(r.content)\n",
    "        else:\n",
    "            dl = 0\n",
    "            total_length = int(total_length)\n",
    "            for data in r.iter_content(chunk_size=4096):\n",
    "                dl += len(data)\n",
    "                f.write(data)\n",
    "                done = int(50 * dl / total_length)\n",
    "                #This section uses the sys library to print and flush over the same line.\n",
    "                sys.stdout.write(\"\\r[%s%s]\" % ('=' * done, ' ' * (50-done)) )\n",
    "                sys.stdout.flush()\n",
    "\n",
    "    print(\"\\nStatus Code: \"+str(r.status_code))\n",
    "    print(\"File Type: \"+r.headers['content-type'])"
   ]
  },
  {
   "cell_type": "code",
   "execution_count": 80,
   "metadata": {},
   "outputs": [
    {
     "name": "stdout",
     "output_type": "stream",
     "text": [
      "Retrieving from: 2019-11-10-14 to 2019-11-10-15\n",
      "Total hours of: 2\n",
      "Downloading /Users/miguel/Python/papertrail-fetch/logs/2019-11-10-14.tsv.gz\n",
      "[==================================================]\n",
      "Status Code: 200\n",
      "File Type: application/x-gzip\n",
      "Downloading /Users/miguel/Python/papertrail-fetch/logs/2019-11-10-15.tsv.gz\n",
      "[==================================================]\n",
      "Status Code: 200\n",
      "File Type: application/x-gzip\n"
     ]
    }
   ],
   "source": [
    "#Main\n",
    "files = []\n",
    "delta = int(hour_end) - int(hour_start)\n",
    "if delta < 0:\n",
    "    print(\"End hour cannot be before the Start hour!\")\n",
    "else:\n",
    "    print(\"Retrieving from: \"+date+\"-\"+hour_start+\" to \"+date+\"-\"+hour_end)\n",
    "    print(\"Total hours of: \"+str(delta+1))\n",
    "    \n",
    "for p in range(int(hour_start), int(hour_end)+1):\n",
    "    #save the file names in an array for post processing\n",
    "    files.append(date+\"-\"+str(p)) \n",
    "    papertrail_get(date+\"-\"+str(p))"
   ]
  },
  {
   "cell_type": "code",
   "execution_count": 83,
   "metadata": {},
   "outputs": [
    {
     "data": {
      "text/plain": [
       "['2019-11-10-15.tsv.gz',\n",
       " '2019-11-10-14.tsv',\n",
       " '2019-11-10-15.tsv',\n",
       " '2019-11-10-14.tsv.gz']"
      ]
     },
     "execution_count": 83,
     "metadata": {},
     "output_type": "execute_result"
    }
   ],
   "source": [
    "#Uncompress the files\n",
    "#No way to know how big the file is after uncompressing, so no progress bar. Be patient. \n",
    "for f in files:\n",
    "    with gzip.open(log_path+\"/\"+f+\".tsv.gz\", 'rb') as f_in:\n",
    "        with open(log_path+\"/\"+f+\".tsv\", 'wb') as f_out:\n",
    "            shutil.copyfileobj(f_in, f_out)\n",
    "os.listdir(log_path)"
   ]
  },
  {
   "cell_type": "code",
   "execution_count": 81,
   "metadata": {},
   "outputs": [
    {
     "data": {
      "text/plain": [
       "['2019-11-10-14', '2019-11-10-15']"
      ]
     },
     "execution_count": 81,
     "metadata": {},
     "output_type": "execute_result"
    }
   ],
   "source": []
  },
  {
   "cell_type": "code",
   "execution_count": null,
   "metadata": {},
   "outputs": [],
   "source": []
  }
 ],
 "metadata": {
  "kernelspec": {
   "display_name": "Python 3",
   "language": "python",
   "name": "python3"
  },
  "language_info": {
   "codemirror_mode": {
    "name": "ipython",
    "version": 3
   },
   "file_extension": ".py",
   "mimetype": "text/x-python",
   "name": "python",
   "nbconvert_exporter": "python",
   "pygments_lexer": "ipython3",
   "version": "3.7.4"
  }
 },
 "nbformat": 4,
 "nbformat_minor": 4
}
